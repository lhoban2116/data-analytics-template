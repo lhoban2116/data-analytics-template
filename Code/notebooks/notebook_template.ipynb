{
 "cells": [
  {
   "cell_type": "markdown",
   "id": "de1843e4-3290-4966-8d2b-95a665e806c4",
   "metadata": {},
   "source": [
    "# Project Name"
   ]
  },
  {
   "cell_type": "markdown",
   "id": "ebb1cec7-8305-4cdd-a54a-31c9a68185b7",
   "metadata": {},
   "source": [
    "**Author:**  Liam Hoban  \n",
    "**Last Modified:** 11/17/2024 (created: 11/17/2024)  \n",
    "\n",
    "**Description:** Short paragraph explaining this project."
   ]
  },
  {
   "cell_type": "markdown",
   "id": "5d56df94-82e1-4cbb-a5cc-ddfa5d0e66d9",
   "metadata": {},
   "source": [
    "<br>"
   ]
  },
  {
   "cell_type": "markdown",
   "id": "7c1c8ead-7d22-41b1-b87e-9e1490d48bee",
   "metadata": {},
   "source": [
    "Import Libraries:"
   ]
  },
  {
   "cell_type": "code",
   "execution_count": 5,
   "id": "46b93d85-f14d-46e2-ab82-9795c5154406",
   "metadata": {},
   "outputs": [],
   "source": [
    "import pandas as pd"
   ]
  },
  {
   "cell_type": "markdown",
   "id": "ab6eaa43-fb76-4a9b-b514-93bcffefba21",
   "metadata": {},
   "source": [
    "<br>"
   ]
  },
  {
   "cell_type": "markdown",
   "id": "f23db221-940c-4b01-a4d4-6342e907cd33",
   "metadata": {},
   "source": [
    "Load Data:"
   ]
  },
  {
   "cell_type": "code",
   "execution_count": 8,
   "id": "1329c83f-836e-4a61-bfec-aaf8cc62ba77",
   "metadata": {},
   "outputs": [],
   "source": [
    "# Code to read in csv file"
   ]
  }
 ],
 "metadata": {
  "kernelspec": {
   "display_name": "Python 3 (ipykernel)",
   "language": "python",
   "name": "python3"
  },
  "language_info": {
   "codemirror_mode": {
    "name": "ipython",
    "version": 3
   },
   "file_extension": ".py",
   "mimetype": "text/x-python",
   "name": "python",
   "nbconvert_exporter": "python",
   "pygments_lexer": "ipython3",
   "version": "3.12.4"
  }
 },
 "nbformat": 4,
 "nbformat_minor": 5
}
